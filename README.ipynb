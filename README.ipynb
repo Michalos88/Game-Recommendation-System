{
 "cells": [
  {
   "cell_type": "markdown",
   "metadata": {},
   "source": [
    "\n",
    "# AISE Data Science Lab\n",
    "\n",
    "\n",
    "\n",
    "### AISE TensorFlow 1.10 Python 3.6 CPU MKL Notebook\n",
    "\n",
    "\n",
    "#### Main components\n",
    "\n",
    "* Keras 2.2.2\n",
    "* TensorFlow 1.10.0\n",
    "* Jupyter Notebook 5.1.0\n",
    "* Python 3.6.3\n",
    "* OpenBLAS 0.2.20\n",
    "* cc 4.9.4\n",
    "* git 2.14.3\n",
    "* Python numpy 1.13.3\n",
    "* Python pandas 0.20.2\n",
    "* Python pydot 1.2.3\n",
    "* Python scipy 1.0.0\n",
    "\n",
    "[Web page](http://jetware.io/appliances/aise/tensorflow110_keras22_python36_mkl_notebook-180906?us=googlecli)\n",
    "[Support](http://jetware.io/contacts/submit/support_googlecl?product=aise/tensorflow110_keras22_python36_mkl_notebook-180906)\n",
    "\n",
    "\n",
    "### [AISE](http://aise.ai/)\n",
    "\n",
    "AISE is a platform, software distribution, tools and services for Machine Learning and Big Data.\n",
    "\n",
    "### [Data Science Lab tools](http://aise.ai/constructors/aise_data_science_lab/appliances)\n",
    "\n",
    "AISE Data Science Lab is a set of ready-to-use fully integrated and configured software stacks for research and development of machine learning and data analytics models.\n",
    "\n"
   ]
  },
  {
   "cell_type": "markdown",
   "metadata": {},
   "source": [
    "# Test notebooks\n",
    "\n",
    "The '[tests](tests)' directory contains minimal notebooks for testing the basic functionality of machine learning frameworks and libraries:\n",
    "\n",
    "* [tensorflow_import.ipynb](tests/tensorflow_import.ipynb)\n",
    "* [tensorflow_matmul.ipynb](tests/tensorflow_matmul.ipynb)\n",
    "* [tensorflow_run.ipynb](tests/tensorflow_run.ipynb)\n",
    "* [tensorflow_test_utilities.ipynb](tests/tensorflow_test_utilities.ipynb)\n",
    "\n"
   ]
  },
  {
   "cell_type": "markdown",
   "metadata": {},
   "source": [
    "\n",
    "---\n",
    "\n",
    "(c) 2018 [AISE.ai - AI System Engineering](http://aise.ai)\n"
   ]
  }
 ],
 "metadata": {},
 "nbformat": 4,
 "nbformat_minor": 2
}
