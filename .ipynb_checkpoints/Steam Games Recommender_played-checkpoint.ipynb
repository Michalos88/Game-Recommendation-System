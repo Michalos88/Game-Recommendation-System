{
 "cells": [
  {
   "cell_type": "markdown",
   "metadata": {},
   "source": [
    "# Game Recommendation System for Steam Data Set\n",
    "## Team : Michal Lyskawinski, Shalin Barot, Shrawan Sapre\n",
    "### Final Project - CS541 - Artficial Intelligence\n",
    "#### Date: 11/30/2018"
   ]
  },
  {
   "cell_type": "code",
   "execution_count": 1,
   "metadata": {},
   "outputs": [],
   "source": [
    "#Importin packages\n",
    "import csv\n",
    "import pandas as pd\n",
    "import numpy as np\n",
    "import matplotlib as plt\n",
    "from tqdm import tqdm\n",
    "import pickle\n",
    "import random "
   ]
  },
  {
   "cell_type": "markdown",
   "metadata": {},
   "source": [
    "## 1. Data Preparation"
   ]
  },
  {
   "cell_type": "code",
   "execution_count": 2,
   "metadata": {},
   "outputs": [
    {
     "data": {
      "text/html": [
       "<div>\n",
       "<style scoped>\n",
       "    .dataframe tbody tr th:only-of-type {\n",
       "        vertical-align: middle;\n",
       "    }\n",
       "\n",
       "    .dataframe tbody tr th {\n",
       "        vertical-align: top;\n",
       "    }\n",
       "\n",
       "    .dataframe thead th {\n",
       "        text-align: right;\n",
       "    }\n",
       "</style>\n",
       "<table border=\"1\" class=\"dataframe\">\n",
       "  <thead>\n",
       "    <tr style=\"text-align: right;\">\n",
       "      <th></th>\n",
       "      <th>user_id</th>\n",
       "      <th>game</th>\n",
       "      <th>behavior</th>\n",
       "      <th>play_time</th>\n",
       "    </tr>\n",
       "  </thead>\n",
       "  <tbody>\n",
       "    <tr>\n",
       "      <th>199999</th>\n",
       "      <td>128470551</td>\n",
       "      <td>RUSH</td>\n",
       "      <td>play</td>\n",
       "      <td>1.4</td>\n",
       "    </tr>\n",
       "    <tr>\n",
       "      <th>70753</th>\n",
       "      <td>43955374</td>\n",
       "      <td>Orcs Must Die! 2</td>\n",
       "      <td>play</td>\n",
       "      <td>17.1</td>\n",
       "    </tr>\n",
       "    <tr>\n",
       "      <th>70751</th>\n",
       "      <td>43955374</td>\n",
       "      <td>XCOM Enemy Unknown</td>\n",
       "      <td>play</td>\n",
       "      <td>17.3</td>\n",
       "    </tr>\n",
       "    <tr>\n",
       "      <th>154701</th>\n",
       "      <td>32126281</td>\n",
       "      <td>Medieval II Total War</td>\n",
       "      <td>play</td>\n",
       "      <td>14.4</td>\n",
       "    </tr>\n",
       "    <tr>\n",
       "      <th>70749</th>\n",
       "      <td>43955374</td>\n",
       "      <td>Anno 2070</td>\n",
       "      <td>play</td>\n",
       "      <td>17.5</td>\n",
       "    </tr>\n",
       "  </tbody>\n",
       "</table>\n",
       "</div>"
      ],
      "text/plain": [
       "          user_id                   game behavior  play_time\n",
       "199999  128470551                   RUSH     play        1.4\n",
       "70753    43955374       Orcs Must Die! 2     play       17.1\n",
       "70751    43955374     XCOM Enemy Unknown     play       17.3\n",
       "154701   32126281  Medieval II Total War     play       14.4\n",
       "70749    43955374              Anno 2070     play       17.5"
      ]
     },
     "execution_count": 2,
     "metadata": {},
     "output_type": "execute_result"
    }
   ],
   "source": [
    "#Load the dataset\n",
    "headers = ['user_id', 'game', 'behavior', 'play_time', '0']\n",
    "steam_data = pd.read_csv('steam-200k.csv', sep=',', names=headers)\n",
    "\n",
    "steam_data = steam_data.drop(['0'],axis=1)\n",
    "\n",
    "steam_data = steam_data.sort_values(by=['behavior'])\n",
    "# steam_data.set_index(range(0,steam_data.shape[0],1))\n",
    "steam_data.head()"
   ]
  },
  {
   "cell_type": "code",
   "execution_count": 217,
   "metadata": {},
   "outputs": [
    {
     "data": {
      "text/html": [
       "<div>\n",
       "<style scoped>\n",
       "    .dataframe tbody tr th:only-of-type {\n",
       "        vertical-align: middle;\n",
       "    }\n",
       "\n",
       "    .dataframe tbody tr th {\n",
       "        vertical-align: top;\n",
       "    }\n",
       "\n",
       "    .dataframe thead th {\n",
       "        text-align: right;\n",
       "    }\n",
       "</style>\n",
       "<table border=\"1\" class=\"dataframe\">\n",
       "  <thead>\n",
       "    <tr style=\"text-align: right;\">\n",
       "      <th></th>\n",
       "      <th>user_id</th>\n",
       "      <th>game</th>\n",
       "      <th>behavior</th>\n",
       "      <th>play_time</th>\n",
       "    </tr>\n",
       "  </thead>\n",
       "  <tbody>\n",
       "    <tr>\n",
       "      <th>0</th>\n",
       "      <td>128470551</td>\n",
       "      <td>RUSH</td>\n",
       "      <td>play</td>\n",
       "      <td>1.4</td>\n",
       "    </tr>\n",
       "    <tr>\n",
       "      <th>1</th>\n",
       "      <td>43955374</td>\n",
       "      <td>Orcs Must Die! 2</td>\n",
       "      <td>play</td>\n",
       "      <td>17.1</td>\n",
       "    </tr>\n",
       "    <tr>\n",
       "      <th>2</th>\n",
       "      <td>43955374</td>\n",
       "      <td>XCOM Enemy Unknown</td>\n",
       "      <td>play</td>\n",
       "      <td>17.3</td>\n",
       "    </tr>\n",
       "    <tr>\n",
       "      <th>3</th>\n",
       "      <td>32126281</td>\n",
       "      <td>Medieval II Total War</td>\n",
       "      <td>play</td>\n",
       "      <td>14.4</td>\n",
       "    </tr>\n",
       "    <tr>\n",
       "      <th>4</th>\n",
       "      <td>43955374</td>\n",
       "      <td>Anno 2070</td>\n",
       "      <td>play</td>\n",
       "      <td>17.5</td>\n",
       "    </tr>\n",
       "  </tbody>\n",
       "</table>\n",
       "</div>"
      ],
      "text/plain": [
       "     user_id                   game behavior  play_time\n",
       "0  128470551                   RUSH     play        1.4\n",
       "1   43955374       Orcs Must Die! 2     play       17.1\n",
       "2   43955374     XCOM Enemy Unknown     play       17.3\n",
       "3   32126281  Medieval II Total War     play       14.4\n",
       "4   43955374              Anno 2070     play       17.5"
      ]
     },
     "execution_count": 217,
     "metadata": {},
     "output_type": "execute_result"
    }
   ],
   "source": [
    "steam_data.reset_index(drop=True, inplace=True)\n",
    "steam_data.head()"
   ]
  },
  {
   "cell_type": "code",
   "execution_count": 3,
   "metadata": {},
   "outputs": [],
   "source": [
    "steam_data_play = steam_data.loc[steam_data.behavior=='play']\n",
    "steam_data_play.tail()\n",
    "steam_data_purchase = steam_data.loc[steam_data.behavior=='purchase']\n",
    "steam_data_purchase.head()\n",
    "games_names = steam_data_play['game'].unique().tolist()\n",
    "unique_ids = steam_data_play['user_id'].unique().tolist()"
   ]
  },
  {
   "cell_type": "code",
   "execution_count": 219,
   "metadata": {},
   "outputs": [],
   "source": [
    "user_id_groups = steam_data_play.groupby(\"user_id\")"
   ]
  },
  {
   "cell_type": "code",
   "execution_count": 220,
   "metadata": {},
   "outputs": [
    {
     "name": "stdout",
     "output_type": "stream",
     "text": [
      "         user_id                                               game  behavior  \\\n",
      "180736  43955374                                  Lego Harry Potter  purchase   \n",
      "180737  43955374                                 King Arthur's Gold  purchase   \n",
      "180738  43955374       Warhammer 40,000 Dawn of War  Winter Assault  purchase   \n",
      "180739  43955374         Warhammer 40,000 Dawn of War  Dark Crusade  purchase   \n",
      "180740  43955374                                           Overlord  purchase   \n",
      "180741  43955374                                         HELLDIVERS  purchase   \n",
      "180742  43955374                   Tom Clancy's Rainbow Six Vegas 2  purchase   \n",
      "180743  43955374                                        Endless Sky  purchase   \n",
      "180744  43955374                                        Hammerwatch  purchase   \n",
      "180745  43955374                               Villagers and Heroes  purchase   \n",
      "180746  43955374                           Amnesia The Dark Descent  purchase   \n",
      "180747  43955374                                   America's Army 3  purchase   \n",
      "180748  43955374                                               Aion  purchase   \n",
      "180749  43955374                          Bully Scholarship Edition  purchase   \n",
      "180750  43955374                                       War of Beach  purchase   \n",
      "180751  43955374                         LEGO The Lord of the Rings  purchase   \n",
      "180752  43955374                       Poker Night at the Inventory  purchase   \n",
      "180753  43955374  Warhammer 40,000 Dawn of War - Game of the Yea...  purchase   \n",
      "180754  43955374                                  Shadowrun Returns  purchase   \n",
      "180755  43955374         School of Dragons How to Train Your Dragon  purchase   \n",
      "180756  43955374                                 Age of Wonders III  purchase   \n",
      "180757  43955374                                   Assassin's Creed  purchase   \n",
      "180758  43955374                      Dungeons & Dragons Daggerdale  purchase   \n",
      "180759  43955374                         Dungeon Defenders Eternity  purchase   \n",
      "180760  43955374                                          Folk Tale  purchase   \n",
      "180761  43955374                                Assassin's Creed II  purchase   \n",
      "180762  43955374                                        Borderlands  purchase   \n",
      "180763  43955374                                        Anno Online  purchase   \n",
      "180764  43955374                                 Warmachine Tactics  purchase   \n",
      "180765  43955374                                          Gauntlet   purchase   \n",
      "...          ...                                                ...       ...   \n",
      "180869  43955374                                 XCOM Enemy Unknown  purchase   \n",
      "180870  43955374                                   Orcs Must Die! 2  purchase   \n",
      "180871  43955374                                 Grand Theft Auto V  purchase   \n",
      "180872  43955374                                               DayZ  purchase   \n",
      "180873  43955374                                         Planetbase  purchase   \n",
      "180874  43955374                   Sins of a Solar Empire Rebellion  purchase   \n",
      "180875  43955374                                         Tower Wars  purchase   \n",
      "180876  43955374                               Starbound - Unstable  purchase   \n",
      "180877  43955374                             Unreal Tournament 2004  purchase   \n",
      "180878  43955374                                Monday Night Combat  purchase   \n",
      "180879  43955374                       Infestation Survivor Stories  purchase   \n",
      "180880  43955374         Galactic Civilizations II Ultimate Edition  purchase   \n",
      "180881  43955374                                              HOARD  purchase   \n",
      "180882  43955374                                           SolForge  purchase   \n",
      "180883  43955374                                            Trine 2  purchase   \n",
      "180884  43955374              Sid Meier's Civilization Beyond Earth  purchase   \n",
      "180885  43955374                                         Torchlight  purchase   \n",
      "180887  43955374                         State of Decay - Breakdown  purchase   \n",
      "180888  43955374             The Elder Scrolls V Skyrim - Dawnguard  purchase   \n",
      "180984  43955374            The Elder Scrolls V Skyrim - Dragonborn  purchase   \n",
      "180985  43955374            The Elder Scrolls V Skyrim - Hearthfire  purchase   \n",
      "180986  43955374                            Ticket to Ride - Europe  purchase   \n",
      "180987  43955374                       Ticket to Ride - Switzerland  purchase   \n",
      "180988  43955374                          Ticket to Ride - USA 1910  purchase   \n",
      "180989  43955374                                  XCOM Enemy Within  purchase   \n",
      "181029  43955374                          State of Decay - Lifeline  purchase   \n",
      "181345  43955374                                      Borderlands 2  purchase   \n",
      "181652  43955374                         Sid Meier's Civilization V  purchase   \n",
      "181653  43955374                                     Clicker Heroes  purchase   \n",
      "182568  43955374        Call of Duty Modern Warfare 2 - Multiplayer  purchase   \n",
      "\n",
      "        play_time  \n",
      "180736        1.0  \n",
      "180737        1.0  \n",
      "180738        1.0  \n",
      "180739        1.0  \n",
      "180740        1.0  \n",
      "180741        1.0  \n",
      "180742        1.0  \n",
      "180743        1.0  \n",
      "180744        1.0  \n",
      "180745        1.0  \n",
      "180746        1.0  \n",
      "180747        1.0  \n",
      "180748        1.0  \n",
      "180749        1.0  \n",
      "180750        1.0  \n",
      "180751        1.0  \n",
      "180752        1.0  \n",
      "180753        1.0  \n",
      "180754        1.0  \n",
      "180755        1.0  \n",
      "180756        1.0  \n",
      "180757        1.0  \n",
      "180758        1.0  \n",
      "180759        1.0  \n",
      "180760        1.0  \n",
      "180761        1.0  \n",
      "180762        1.0  \n",
      "180763        1.0  \n",
      "180764        1.0  \n",
      "180765        1.0  \n",
      "...           ...  \n",
      "180869        1.0  \n",
      "180870        1.0  \n",
      "180871        1.0  \n",
      "180872        1.0  \n",
      "180873        1.0  \n",
      "180874        1.0  \n",
      "180875        1.0  \n",
      "180876        1.0  \n",
      "180877        1.0  \n",
      "180878        1.0  \n",
      "180879        1.0  \n",
      "180880        1.0  \n",
      "180881        1.0  \n",
      "180882        1.0  \n",
      "180883        1.0  \n",
      "180884        1.0  \n",
      "180885        1.0  \n",
      "180887        1.0  \n",
      "180888        1.0  \n",
      "180984        1.0  \n",
      "180985        1.0  \n",
      "180986        1.0  \n",
      "180987        1.0  \n",
      "180988        1.0  \n",
      "180989        1.0  \n",
      "181029        1.0  \n",
      "181345        1.0  \n",
      "181652        1.0  \n",
      "181653        1.0  \n",
      "182568        1.0  \n",
      "\n",
      "[163 rows x 4 columns]\n"
     ]
    }
   ],
   "source": [
    "print(user_id_groups.get_group(43955374))"
   ]
  },
  {
   "cell_type": "code",
   "execution_count": 299,
   "metadata": {},
   "outputs": [],
   "source": [
    "beautiful_df = pd.DataFrame(0, index=unique_ids, columns=games_names)"
   ]
  },
  {
   "cell_type": "code",
   "execution_count": 300,
   "metadata": {},
   "outputs": [
    {
     "data": {
      "text/html": [
       "<div>\n",
       "<style scoped>\n",
       "    .dataframe tbody tr th:only-of-type {\n",
       "        vertical-align: middle;\n",
       "    }\n",
       "\n",
       "    .dataframe tbody tr th {\n",
       "        vertical-align: top;\n",
       "    }\n",
       "\n",
       "    .dataframe thead th {\n",
       "        text-align: right;\n",
       "    }\n",
       "</style>\n",
       "<table border=\"1\" class=\"dataframe\">\n",
       "  <thead>\n",
       "    <tr style=\"text-align: right;\">\n",
       "      <th></th>\n",
       "      <th>Amnesia The Dark Descent</th>\n",
       "      <th>Unturned</th>\n",
       "      <th>Aliens Colonial Marines</th>\n",
       "      <th>Champions Online</th>\n",
       "      <th>Grand Theft Auto Vice City</th>\n",
       "      <th>Quake Live</th>\n",
       "      <th>Grand Theft Auto San Andreas</th>\n",
       "      <th>Yet Another Zombie Defense</th>\n",
       "      <th>Tomb Raider Chronicles</th>\n",
       "      <th>AdVenture Capitalist</th>\n",
       "      <th>...</th>\n",
       "      <th>Realm of Perpetual Guilds</th>\n",
       "      <th>Agapan</th>\n",
       "      <th>Desktop Dungeons Goatperson DLC</th>\n",
       "      <th>Desktop Dungeons Soundtrack</th>\n",
       "      <th>Diehard Dungeon</th>\n",
       "      <th>Dr.Green</th>\n",
       "      <th>Dungeon Crawlers HD</th>\n",
       "      <th>EverQuest II Rise of Kunark</th>\n",
       "      <th>EverQuest II The Shadow Odyssey</th>\n",
       "      <th>Butsbal</th>\n",
       "    </tr>\n",
       "  </thead>\n",
       "  <tbody>\n",
       "    <tr>\n",
       "      <th>10450544</th>\n",
       "      <td>0</td>\n",
       "      <td>0</td>\n",
       "      <td>0</td>\n",
       "      <td>0</td>\n",
       "      <td>0</td>\n",
       "      <td>0</td>\n",
       "      <td>0</td>\n",
       "      <td>0</td>\n",
       "      <td>0</td>\n",
       "      <td>0</td>\n",
       "      <td>...</td>\n",
       "      <td>0</td>\n",
       "      <td>0</td>\n",
       "      <td>0</td>\n",
       "      <td>0</td>\n",
       "      <td>0</td>\n",
       "      <td>0</td>\n",
       "      <td>0</td>\n",
       "      <td>0</td>\n",
       "      <td>0</td>\n",
       "      <td>0</td>\n",
       "    </tr>\n",
       "    <tr>\n",
       "      <th>260017289</th>\n",
       "      <td>0</td>\n",
       "      <td>0</td>\n",
       "      <td>0</td>\n",
       "      <td>0</td>\n",
       "      <td>0</td>\n",
       "      <td>0</td>\n",
       "      <td>0</td>\n",
       "      <td>0</td>\n",
       "      <td>0</td>\n",
       "      <td>0</td>\n",
       "      <td>...</td>\n",
       "      <td>0</td>\n",
       "      <td>0</td>\n",
       "      <td>0</td>\n",
       "      <td>0</td>\n",
       "      <td>0</td>\n",
       "      <td>0</td>\n",
       "      <td>0</td>\n",
       "      <td>0</td>\n",
       "      <td>0</td>\n",
       "      <td>0</td>\n",
       "    </tr>\n",
       "    <tr>\n",
       "      <th>168163793</th>\n",
       "      <td>0</td>\n",
       "      <td>0</td>\n",
       "      <td>0</td>\n",
       "      <td>0</td>\n",
       "      <td>0</td>\n",
       "      <td>0</td>\n",
       "      <td>0</td>\n",
       "      <td>0</td>\n",
       "      <td>0</td>\n",
       "      <td>0</td>\n",
       "      <td>...</td>\n",
       "      <td>0</td>\n",
       "      <td>0</td>\n",
       "      <td>0</td>\n",
       "      <td>0</td>\n",
       "      <td>0</td>\n",
       "      <td>0</td>\n",
       "      <td>0</td>\n",
       "      <td>0</td>\n",
       "      <td>0</td>\n",
       "      <td>0</td>\n",
       "    </tr>\n",
       "    <tr>\n",
       "      <th>36557643</th>\n",
       "      <td>0</td>\n",
       "      <td>0</td>\n",
       "      <td>0</td>\n",
       "      <td>0</td>\n",
       "      <td>0</td>\n",
       "      <td>0</td>\n",
       "      <td>0</td>\n",
       "      <td>0</td>\n",
       "      <td>0</td>\n",
       "      <td>0</td>\n",
       "      <td>...</td>\n",
       "      <td>0</td>\n",
       "      <td>0</td>\n",
       "      <td>0</td>\n",
       "      <td>0</td>\n",
       "      <td>0</td>\n",
       "      <td>0</td>\n",
       "      <td>0</td>\n",
       "      <td>0</td>\n",
       "      <td>0</td>\n",
       "      <td>0</td>\n",
       "    </tr>\n",
       "    <tr>\n",
       "      <th>165608075</th>\n",
       "      <td>0</td>\n",
       "      <td>0</td>\n",
       "      <td>0</td>\n",
       "      <td>0</td>\n",
       "      <td>0</td>\n",
       "      <td>0</td>\n",
       "      <td>0</td>\n",
       "      <td>0</td>\n",
       "      <td>0</td>\n",
       "      <td>0</td>\n",
       "      <td>...</td>\n",
       "      <td>0</td>\n",
       "      <td>0</td>\n",
       "      <td>0</td>\n",
       "      <td>0</td>\n",
       "      <td>0</td>\n",
       "      <td>0</td>\n",
       "      <td>0</td>\n",
       "      <td>0</td>\n",
       "      <td>0</td>\n",
       "      <td>0</td>\n",
       "    </tr>\n",
       "    <tr>\n",
       "      <th>142793906</th>\n",
       "      <td>0</td>\n",
       "      <td>0</td>\n",
       "      <td>0</td>\n",
       "      <td>0</td>\n",
       "      <td>0</td>\n",
       "      <td>0</td>\n",
       "      <td>0</td>\n",
       "      <td>0</td>\n",
       "      <td>0</td>\n",
       "      <td>0</td>\n",
       "      <td>...</td>\n",
       "      <td>0</td>\n",
       "      <td>0</td>\n",
       "      <td>0</td>\n",
       "      <td>0</td>\n",
       "      <td>0</td>\n",
       "      <td>0</td>\n",
       "      <td>0</td>\n",
       "      <td>0</td>\n",
       "      <td>0</td>\n",
       "      <td>0</td>\n",
       "    </tr>\n",
       "    <tr>\n",
       "      <th>116564064</th>\n",
       "      <td>0</td>\n",
       "      <td>0</td>\n",
       "      <td>0</td>\n",
       "      <td>0</td>\n",
       "      <td>0</td>\n",
       "      <td>0</td>\n",
       "      <td>0</td>\n",
       "      <td>0</td>\n",
       "      <td>0</td>\n",
       "      <td>0</td>\n",
       "      <td>...</td>\n",
       "      <td>0</td>\n",
       "      <td>0</td>\n",
       "      <td>0</td>\n",
       "      <td>0</td>\n",
       "      <td>0</td>\n",
       "      <td>0</td>\n",
       "      <td>0</td>\n",
       "      <td>0</td>\n",
       "      <td>0</td>\n",
       "      <td>0</td>\n",
       "    </tr>\n",
       "    <tr>\n",
       "      <th>108264287</th>\n",
       "      <td>0</td>\n",
       "      <td>0</td>\n",
       "      <td>0</td>\n",
       "      <td>0</td>\n",
       "      <td>0</td>\n",
       "      <td>0</td>\n",
       "      <td>0</td>\n",
       "      <td>0</td>\n",
       "      <td>0</td>\n",
       "      <td>0</td>\n",
       "      <td>...</td>\n",
       "      <td>0</td>\n",
       "      <td>0</td>\n",
       "      <td>0</td>\n",
       "      <td>0</td>\n",
       "      <td>0</td>\n",
       "      <td>0</td>\n",
       "      <td>0</td>\n",
       "      <td>0</td>\n",
       "      <td>0</td>\n",
       "      <td>0</td>\n",
       "    </tr>\n",
       "    <tr>\n",
       "      <th>113300324</th>\n",
       "      <td>0</td>\n",
       "      <td>0</td>\n",
       "      <td>0</td>\n",
       "      <td>0</td>\n",
       "      <td>0</td>\n",
       "      <td>0</td>\n",
       "      <td>0</td>\n",
       "      <td>0</td>\n",
       "      <td>0</td>\n",
       "      <td>0</td>\n",
       "      <td>...</td>\n",
       "      <td>0</td>\n",
       "      <td>0</td>\n",
       "      <td>0</td>\n",
       "      <td>0</td>\n",
       "      <td>0</td>\n",
       "      <td>0</td>\n",
       "      <td>0</td>\n",
       "      <td>0</td>\n",
       "      <td>0</td>\n",
       "      <td>0</td>\n",
       "    </tr>\n",
       "    <tr>\n",
       "      <th>155919035</th>\n",
       "      <td>0</td>\n",
       "      <td>0</td>\n",
       "      <td>0</td>\n",
       "      <td>0</td>\n",
       "      <td>0</td>\n",
       "      <td>0</td>\n",
       "      <td>0</td>\n",
       "      <td>0</td>\n",
       "      <td>0</td>\n",
       "      <td>0</td>\n",
       "      <td>...</td>\n",
       "      <td>0</td>\n",
       "      <td>0</td>\n",
       "      <td>0</td>\n",
       "      <td>0</td>\n",
       "      <td>0</td>\n",
       "      <td>0</td>\n",
       "      <td>0</td>\n",
       "      <td>0</td>\n",
       "      <td>0</td>\n",
       "      <td>0</td>\n",
       "    </tr>\n",
       "    <tr>\n",
       "      <th>94521606</th>\n",
       "      <td>0</td>\n",
       "      <td>0</td>\n",
       "      <td>0</td>\n",
       "      <td>0</td>\n",
       "      <td>0</td>\n",
       "      <td>0</td>\n",
       "      <td>0</td>\n",
       "      <td>0</td>\n",
       "      <td>0</td>\n",
       "      <td>0</td>\n",
       "      <td>...</td>\n",
       "      <td>0</td>\n",
       "      <td>0</td>\n",
       "      <td>0</td>\n",
       "      <td>0</td>\n",
       "      <td>0</td>\n",
       "      <td>0</td>\n",
       "      <td>0</td>\n",
       "      <td>0</td>\n",
       "      <td>0</td>\n",
       "      <td>0</td>\n",
       "    </tr>\n",
       "    <tr>\n",
       "      <th>101596530</th>\n",
       "      <td>0</td>\n",
       "      <td>0</td>\n",
       "      <td>0</td>\n",
       "      <td>0</td>\n",
       "      <td>0</td>\n",
       "      <td>0</td>\n",
       "      <td>0</td>\n",
       "      <td>0</td>\n",
       "      <td>0</td>\n",
       "      <td>0</td>\n",
       "      <td>...</td>\n",
       "      <td>0</td>\n",
       "      <td>0</td>\n",
       "      <td>0</td>\n",
       "      <td>0</td>\n",
       "      <td>0</td>\n",
       "      <td>0</td>\n",
       "      <td>0</td>\n",
       "      <td>0</td>\n",
       "      <td>0</td>\n",
       "      <td>0</td>\n",
       "    </tr>\n",
       "    <tr>\n",
       "      <th>40212239</th>\n",
       "      <td>0</td>\n",
       "      <td>0</td>\n",
       "      <td>0</td>\n",
       "      <td>0</td>\n",
       "      <td>0</td>\n",
       "      <td>0</td>\n",
       "      <td>0</td>\n",
       "      <td>0</td>\n",
       "      <td>0</td>\n",
       "      <td>0</td>\n",
       "      <td>...</td>\n",
       "      <td>0</td>\n",
       "      <td>0</td>\n",
       "      <td>0</td>\n",
       "      <td>0</td>\n",
       "      <td>0</td>\n",
       "      <td>0</td>\n",
       "      <td>0</td>\n",
       "      <td>0</td>\n",
       "      <td>0</td>\n",
       "      <td>0</td>\n",
       "    </tr>\n",
       "    <tr>\n",
       "      <th>113196318</th>\n",
       "      <td>0</td>\n",
       "      <td>0</td>\n",
       "      <td>0</td>\n",
       "      <td>0</td>\n",
       "      <td>0</td>\n",
       "      <td>0</td>\n",
       "      <td>0</td>\n",
       "      <td>0</td>\n",
       "      <td>0</td>\n",
       "      <td>0</td>\n",
       "      <td>...</td>\n",
       "      <td>0</td>\n",
       "      <td>0</td>\n",
       "      <td>0</td>\n",
       "      <td>0</td>\n",
       "      <td>0</td>\n",
       "      <td>0</td>\n",
       "      <td>0</td>\n",
       "      <td>0</td>\n",
       "      <td>0</td>\n",
       "      <td>0</td>\n",
       "    </tr>\n",
       "    <tr>\n",
       "      <th>87201181</th>\n",
       "      <td>0</td>\n",
       "      <td>0</td>\n",
       "      <td>0</td>\n",
       "      <td>0</td>\n",
       "      <td>0</td>\n",
       "      <td>0</td>\n",
       "      <td>0</td>\n",
       "      <td>0</td>\n",
       "      <td>0</td>\n",
       "      <td>0</td>\n",
       "      <td>...</td>\n",
       "      <td>0</td>\n",
       "      <td>0</td>\n",
       "      <td>0</td>\n",
       "      <td>0</td>\n",
       "      <td>0</td>\n",
       "      <td>0</td>\n",
       "      <td>0</td>\n",
       "      <td>0</td>\n",
       "      <td>0</td>\n",
       "      <td>0</td>\n",
       "    </tr>\n",
       "  </tbody>\n",
       "</table>\n",
       "<p>15 rows × 5155 columns</p>\n",
       "</div>"
      ],
      "text/plain": [
       "           Amnesia The Dark Descent  Unturned  Aliens Colonial Marines  \\\n",
       "10450544                          0         0                        0   \n",
       "260017289                         0         0                        0   \n",
       "168163793                         0         0                        0   \n",
       "36557643                          0         0                        0   \n",
       "165608075                         0         0                        0   \n",
       "142793906                         0         0                        0   \n",
       "116564064                         0         0                        0   \n",
       "108264287                         0         0                        0   \n",
       "113300324                         0         0                        0   \n",
       "155919035                         0         0                        0   \n",
       "94521606                          0         0                        0   \n",
       "101596530                         0         0                        0   \n",
       "40212239                          0         0                        0   \n",
       "113196318                         0         0                        0   \n",
       "87201181                          0         0                        0   \n",
       "\n",
       "           Champions Online  Grand Theft Auto Vice City  Quake Live  \\\n",
       "10450544                  0                           0           0   \n",
       "260017289                 0                           0           0   \n",
       "168163793                 0                           0           0   \n",
       "36557643                  0                           0           0   \n",
       "165608075                 0                           0           0   \n",
       "142793906                 0                           0           0   \n",
       "116564064                 0                           0           0   \n",
       "108264287                 0                           0           0   \n",
       "113300324                 0                           0           0   \n",
       "155919035                 0                           0           0   \n",
       "94521606                  0                           0           0   \n",
       "101596530                 0                           0           0   \n",
       "40212239                  0                           0           0   \n",
       "113196318                 0                           0           0   \n",
       "87201181                  0                           0           0   \n",
       "\n",
       "           Grand Theft Auto San Andreas  Yet Another Zombie Defense  \\\n",
       "10450544                              0                           0   \n",
       "260017289                             0                           0   \n",
       "168163793                             0                           0   \n",
       "36557643                              0                           0   \n",
       "165608075                             0                           0   \n",
       "142793906                             0                           0   \n",
       "116564064                             0                           0   \n",
       "108264287                             0                           0   \n",
       "113300324                             0                           0   \n",
       "155919035                             0                           0   \n",
       "94521606                              0                           0   \n",
       "101596530                             0                           0   \n",
       "40212239                              0                           0   \n",
       "113196318                             0                           0   \n",
       "87201181                              0                           0   \n",
       "\n",
       "           Tomb Raider Chronicles  AdVenture Capitalist   ...     \\\n",
       "10450544                        0                     0   ...      \n",
       "260017289                       0                     0   ...      \n",
       "168163793                       0                     0   ...      \n",
       "36557643                        0                     0   ...      \n",
       "165608075                       0                     0   ...      \n",
       "142793906                       0                     0   ...      \n",
       "116564064                       0                     0   ...      \n",
       "108264287                       0                     0   ...      \n",
       "113300324                       0                     0   ...      \n",
       "155919035                       0                     0   ...      \n",
       "94521606                        0                     0   ...      \n",
       "101596530                       0                     0   ...      \n",
       "40212239                        0                     0   ...      \n",
       "113196318                       0                     0   ...      \n",
       "87201181                        0                     0   ...      \n",
       "\n",
       "           Realm of Perpetual Guilds  Agapan  Desktop Dungeons Goatperson DLC  \\\n",
       "10450544                           0       0                                0   \n",
       "260017289                          0       0                                0   \n",
       "168163793                          0       0                                0   \n",
       "36557643                           0       0                                0   \n",
       "165608075                          0       0                                0   \n",
       "142793906                          0       0                                0   \n",
       "116564064                          0       0                                0   \n",
       "108264287                          0       0                                0   \n",
       "113300324                          0       0                                0   \n",
       "155919035                          0       0                                0   \n",
       "94521606                           0       0                                0   \n",
       "101596530                          0       0                                0   \n",
       "40212239                           0       0                                0   \n",
       "113196318                          0       0                                0   \n",
       "87201181                           0       0                                0   \n",
       "\n",
       "           Desktop Dungeons Soundtrack  Diehard Dungeon  Dr.Green  \\\n",
       "10450544                             0                0         0   \n",
       "260017289                            0                0         0   \n",
       "168163793                            0                0         0   \n",
       "36557643                             0                0         0   \n",
       "165608075                            0                0         0   \n",
       "142793906                            0                0         0   \n",
       "116564064                            0                0         0   \n",
       "108264287                            0                0         0   \n",
       "113300324                            0                0         0   \n",
       "155919035                            0                0         0   \n",
       "94521606                             0                0         0   \n",
       "101596530                            0                0         0   \n",
       "40212239                             0                0         0   \n",
       "113196318                            0                0         0   \n",
       "87201181                             0                0         0   \n",
       "\n",
       "           Dungeon Crawlers HD  EverQuest II Rise of Kunark  \\\n",
       "10450544                     0                            0   \n",
       "260017289                    0                            0   \n",
       "168163793                    0                            0   \n",
       "36557643                     0                            0   \n",
       "165608075                    0                            0   \n",
       "142793906                    0                            0   \n",
       "116564064                    0                            0   \n",
       "108264287                    0                            0   \n",
       "113300324                    0                            0   \n",
       "155919035                    0                            0   \n",
       "94521606                     0                            0   \n",
       "101596530                    0                            0   \n",
       "40212239                     0                            0   \n",
       "113196318                    0                            0   \n",
       "87201181                     0                            0   \n",
       "\n",
       "           EverQuest II The Shadow Odyssey  Butsbal  \n",
       "10450544                                 0        0  \n",
       "260017289                                0        0  \n",
       "168163793                                0        0  \n",
       "36557643                                 0        0  \n",
       "165608075                                0        0  \n",
       "142793906                                0        0  \n",
       "116564064                                0        0  \n",
       "108264287                                0        0  \n",
       "113300324                                0        0  \n",
       "155919035                                0        0  \n",
       "94521606                                 0        0  \n",
       "101596530                                0        0  \n",
       "40212239                                 0        0  \n",
       "113196318                                0        0  \n",
       "87201181                                 0        0  \n",
       "\n",
       "[15 rows x 5155 columns]"
      ]
     },
     "execution_count": 300,
     "metadata": {},
     "output_type": "execute_result"
    }
   ],
   "source": [
    "beautiful_df.head(15)"
   ]
  },
  {
   "cell_type": "code",
   "execution_count": 301,
   "metadata": {},
   "outputs": [],
   "source": [
    "try:\n",
    "    with open('beautiful_df.pkl','rb') as f:\n",
    "        beautiful_df = pickle.load(f)\n",
    "except:\n",
    "    for i in tqdm(range(0, len(unique_ids),1)):\n",
    "        user_id = unique_ids[i]\n",
    "        user_group = user_id_groups.get_group(user_id)\n",
    "        for game_name in user_group['game']:\n",
    "            beautiful_df[game_name][user_id] = 1\n",
    "    with open('beautiful_df.pkl', 'wb') as f:\n",
    "        pickle.dump(beautiful_df, f)    "
   ]
  },
  {
   "cell_type": "code",
   "execution_count": 302,
   "metadata": {},
   "outputs": [
    {
     "name": "stdout",
     "output_type": "stream",
     "text": [
      "10.3932865327\n"
     ]
    }
   ],
   "source": [
    "average_games_played = np.mean(beautiful_df.sum(axis=1).values)\n",
    "print(average_games_played)"
   ]
  },
  {
   "cell_type": "markdown",
   "metadata": {},
   "source": [
    "#### Splitting into train and test sets"
   ]
  },
  {
   "cell_type": "code",
   "execution_count": 303,
   "metadata": {},
   "outputs": [],
   "source": [
    "# 80/20 Data Split\n",
    "try:\n",
    "    with open('test_users.pkl','rb') as f:\n",
    "        test_users = pickle.load(f)\n",
    "except:\n",
    "    n = 0\n",
    "    test_users = []\n",
    "    num_test_users = 2000\n",
    "    pbar = tqdm(total = num_test_users)\n",
    "    while(n < num_test_users):\n",
    "        sample = np.random.choice(len(unique_ids),1, replace=False)\n",
    "        test_user_id = beautiful_df.index[sample][0]\n",
    "        test_user_games = np.unique(user_id_groups.get_group(test_user_id)['game'].values)\n",
    "        if test_user_games.shape[0] > 10:\n",
    "            if test_user_id not in test_users:\n",
    "                test_users.append(test_user_id)\n",
    "                n+=1\n",
    "                pbar.update(1)\n",
    "    pbar.close()\n",
    "    with open('test_users.pkl', 'wb') as f:\n",
    "        pickle.dump(test_users, f)"
   ]
  },
  {
   "cell_type": "code",
   "execution_count": 307,
   "metadata": {},
   "outputs": [],
   "source": [
    "assert len(test_users)==np.unique(test_users).shape[0] # Check for duplicates"
   ]
  },
  {
   "cell_type": "code",
   "execution_count": 304,
   "metadata": {},
   "outputs": [],
   "source": [
    "def alterData(data, test_users, hidden, user_id_groups):\n",
    "    games_altered = []\n",
    "    for i in tqdm(range(0, len(test_users),1)):\n",
    "        test_user_id = test_users[i]\n",
    "        test_games_purchased = np.unique(user_id_groups.get_group(test_user_id)['game'].values)\n",
    "        picked_games = np.random.choice(len(test_games_purchased), min(len(test_games_purchased),hidden), replace=False)\n",
    "        games = []\n",
    "        for game in picked_games:\n",
    "            if data[test_games_purchased[game]][test_user_id] == 1:\n",
    "                data[test_games_purchased[game]][test_user_id] = 0\n",
    "                games.append(test_games_purchased[game])\n",
    "            else:\n",
    "                print(data[test_games_purchased[game]][test_user_id])\n",
    "                print(test_games_purchased[game],test_user_id, picked_games)\n",
    "                raise Exception('This game should be purchased. Try recomputing beautiful_df')\n",
    "        games_altered.append(games)\n",
    "    return games_altered,data"
   ]
  },
  {
   "cell_type": "code",
   "execution_count": 305,
   "metadata": {},
   "outputs": [
    {
     "name": "stderr",
     "output_type": "stream",
     "text": [
      "100%|██████████| 2000/2000 [00:03<00:00, 542.36it/s]\n"
     ]
    }
   ],
   "source": [
    "games_altered, beautiful_df = alterData(beautiful_df, test_users, 2, user_id_groups)"
   ]
  },
  {
   "cell_type": "code",
   "execution_count": 308,
   "metadata": {},
   "outputs": [],
   "source": [
    "matrix = np.array(beautiful_df.values)"
   ]
  },
  {
   "cell_type": "markdown",
   "metadata": {},
   "source": [
    "## 2. Matrix Complition"
   ]
  },
  {
   "cell_type": "markdown",
   "metadata": {},
   "source": [
    "At a high level, SVD decomposes a matrix $R$ into the best lower rank approximation of the original matrix $R$. Mathematically, it decomposes R into a two unitary matrices and a diagonal matrix:\n",
    "\n",
    "$$ R = U \\Sigma V^T $$\n",
    "\n",
    "where R is users's purchase matrix, $U$ is the user \"features\" matrix, $\\Sigma$ is the diagonal matrix of singular values (essentially weights), and $V^{T}$ is the game \"features\" matrix. $U$ and $V^{T}$ are orthogonal, and represent different things. $U$ represents how much users \"like\" each feature and $V^{T}$ represents how relevant each feature is to each game."
   ]
  },
  {
   "cell_type": "code",
   "execution_count": 309,
   "metadata": {},
   "outputs": [],
   "source": [
    "#Obtaining SVD values of the user-item matrix\n",
    "try:\n",
    "    with open('s.pkl','rb') as f:\n",
    "        s = pickle.load(f)\n",
    "    with open('u.pkl','rb') as f:\n",
    "        u = pickle.load(f)\n",
    "    with open('vt.pkl','rb') as f:\n",
    "        vt = pickle.load(f)\n",
    "except:\n",
    "    u, s, vt = np.linalg.svd(matrix, full_matrices=True)\n",
    "    with open('s.pkl', 'wb') as f:\n",
    "        pickle.dump(s, f)\n",
    "    with open('u.pkl', 'wb') as f:\n",
    "        pickle.dump(u, f)\n",
    "    with open('vt.pkl', 'wb') as f:\n",
    "        pickle.dump(vt, f)"
   ]
  },
  {
   "cell_type": "markdown",
   "metadata": {},
   "source": [
    "#### Sparsifying thorugh thresholding"
   ]
  },
  {
   "cell_type": "code",
   "execution_count": 310,
   "metadata": {},
   "outputs": [],
   "source": [
    "def sparsify(s,u,vt):\n",
    "    thresholdCheck = list(np.around(s,0) == 0)\n",
    "    thresholdIndex = thresholdCheck.index(True)\n",
    "    sparsed_s = np.diag(s[:thresholdIndex])\n",
    "    sparsed_vt = vt[:thresholdIndex,:]\n",
    "    sparsed_u = u [:,:thresholdIndex]\n",
    "    return sparsed_s, sparsed_vt, sparsed_u"
   ]
  },
  {
   "cell_type": "code",
   "execution_count": 311,
   "metadata": {},
   "outputs": [],
   "source": [
    "sparsed_s, sparsed_vt, sparsed_u = sparsify(s,u,vt)"
   ]
  },
  {
   "cell_type": "code",
   "execution_count": 312,
   "metadata": {},
   "outputs": [],
   "source": [
    "def redecompose(sparsed_s,sparsed_u,sparsed_vt):\n",
    "    all_user_predicted_purchases = np.dot(np.dot(sparsed_u, sparsed_s), sparsed_vt)\n",
    "    predictions = pd.DataFrame(all_user_predicted_purchases, columns = beautiful_df.columns, index = beautiful_df.index)\n",
    "    return predictions"
   ]
  },
  {
   "cell_type": "code",
   "execution_count": 313,
   "metadata": {},
   "outputs": [],
   "source": [
    "predictions = redecompose(sparsed_s,sparsed_u,sparsed_vt)"
   ]
  },
  {
   "cell_type": "markdown",
   "metadata": {},
   "source": [
    "## 3. Predictions"
   ]
  },
  {
   "cell_type": "code",
   "execution_count": 314,
   "metadata": {},
   "outputs": [],
   "source": [
    "def recommend_games(user_id, num_recommendations, predictions, user_id_groups):\n",
    "    \n",
    "    # Get and sort the user's predictions\n",
    "    sorted_user_predictions = predictions.loc[user_id].sort_values(ascending=False)\n",
    "    \n",
    "    # Get list of purchased games\n",
    "    purchased_games = user_id_groups.get_group(user_id)['game'].unique().tolist()\n",
    "\n",
    "#     print('User {0} has already purchased {1} games.'.format(user_id, len(purchased_games)))\n",
    "#     print('Recommending the highest {0} predicted games.'.format(num_recommendations))\n",
    "    \n",
    "    # Recommend the highest predicted rating movies that the user hasn't seen yet.\n",
    "    count_games = 0 \n",
    "    recommendations = []\n",
    "    for i in range(0,sorted_user_predictions.shape[0],1):\n",
    "        predicted_game_score = sorted_user_predictions[i]\n",
    "        predicted_game_name = sorted_user_predictions.index[i]\n",
    "        if predicted_game_name not in purchased_games:\n",
    "            count_games+=1\n",
    "            recommendations.append(predicted_game_name)\n",
    "        if count_games >= num_recommendations:\n",
    "            break\n",
    "\n",
    "    return recommendations"
   ]
  },
  {
   "cell_type": "code",
   "execution_count": 315,
   "metadata": {},
   "outputs": [
    {
     "name": "stdout",
     "output_type": "stream",
     "text": [
      "We are recommending following game: Ticket to Ride - Legendary Asia, Iron Sky Invasion, Oil Rush, Democracy 2, Total Annihilation\n"
     ]
    }
   ],
   "source": [
    "recommendations = recommend_games(43955374, 5, predictions, user_id_groups)\n",
    "print('We are recommending following game: '+ (\", \").join(recommendations))"
   ]
  },
  {
   "cell_type": "markdown",
   "metadata": {},
   "source": [
    "## 4. Testing\n",
    "#### Compute Recall"
   ]
  },
  {
   "cell_type": "code",
   "execution_count": 345,
   "metadata": {},
   "outputs": [],
   "source": [
    "def getRecall(games_altered, test_users, data, num_recommendations, predictions, user_id_groups):\n",
    "    recalls = []\n",
    "    for i in tqdm(range(0, len(test_users),1)):\n",
    "        matches = 0\n",
    "        test_user_id = test_users[i]\n",
    "        recommendations = recommend_games(user_id, num_recommendations, predictions, user_id_groups)\n",
    "#         print(games_altered[i],recommendations)\n",
    "#         break\n",
    "        for game in games_altered[i]:\n",
    "            if game in recommendations:\n",
    "                matches+=1\n",
    "        recall = matches/len(games_altered[i])\n",
    "        recalls.append(recall)\n",
    "    return np.mean(recalls)"
   ]
  },
  {
   "cell_type": "code",
   "execution_count": 346,
   "metadata": {},
   "outputs": [
    {
     "name": "stderr",
     "output_type": "stream",
     "text": [
      "  5%|▌         | 107/2000 [00:00<00:07, 255.95it/s]"
     ]
    },
    {
     "name": "stdout",
     "output_type": "stream",
     "text": [
      "QuestRun\n"
     ]
    },
    {
     "name": "stderr",
     "output_type": "stream",
     "text": [
      " 10%|▉         | 190/2000 [00:00<00:06, 266.21it/s]"
     ]
    },
    {
     "name": "stdout",
     "output_type": "stream",
     "text": [
      "Crysis Wars\n",
      "Valkyria Chronicles Edy's Mission Enter the Edy Detachment\n",
      "Defense Grid 2 A Matter of Endurance\n"
     ]
    },
    {
     "name": "stderr",
     "output_type": "stream",
     "text": [
      " 33%|███▎      | 666/2000 [00:02<00:05, 234.15it/s]"
     ]
    },
    {
     "name": "stdout",
     "output_type": "stream",
     "text": [
      "Tom Clancy's Ghost Recon Phantoms - NA Assault Starter Pack\n"
     ]
    },
    {
     "name": "stderr",
     "output_type": "stream",
     "text": [
      " 40%|████      | 800/2000 [00:03<00:04, 247.57it/s]"
     ]
    },
    {
     "name": "stdout",
     "output_type": "stream",
     "text": [
      "Takedown Red Sabre\n",
      "Famaze\n"
     ]
    },
    {
     "name": "stderr",
     "output_type": "stream",
     "text": [
      " 44%|████▍     | 880/2000 [00:03<00:05, 215.46it/s]"
     ]
    },
    {
     "name": "stdout",
     "output_type": "stream",
     "text": [
      "Dwarfs!?\n"
     ]
    },
    {
     "name": "stderr",
     "output_type": "stream",
     "text": [
      " 46%|████▋     | 929/2000 [00:03<00:05, 213.52it/s]"
     ]
    },
    {
     "name": "stdout",
     "output_type": "stream",
     "text": [
      "Divinity Dragon Commander Beta\n"
     ]
    },
    {
     "name": "stderr",
     "output_type": "stream",
     "text": [
      " 54%|█████▍    | 1085/2000 [00:04<00:03, 234.75it/s]"
     ]
    },
    {
     "name": "stdout",
     "output_type": "stream",
     "text": [
      "Mortal Kombat Legacy - Ep. 6 Raiden\n"
     ]
    },
    {
     "name": "stderr",
     "output_type": "stream",
     "text": [
      " 60%|█████▉    | 1192/2000 [00:04<00:03, 209.55it/s]"
     ]
    },
    {
     "name": "stdout",
     "output_type": "stream",
     "text": [
      "Star Wars Starfighter\n"
     ]
    },
    {
     "name": "stderr",
     "output_type": "stream",
     "text": [
      " 66%|██████▌   | 1312/2000 [00:05<00:03, 216.24it/s]"
     ]
    },
    {
     "name": "stdout",
     "output_type": "stream",
     "text": [
      "CSGO Player Profiles - Markeloff\n"
     ]
    },
    {
     "name": "stderr",
     "output_type": "stream",
     "text": [
      " 73%|███████▎  | 1453/2000 [00:06<00:02, 223.93it/s]"
     ]
    },
    {
     "name": "stdout",
     "output_type": "stream",
     "text": [
      "Valkyria Chronicles Edy's Mission Enter the Edy Detachment\n"
     ]
    },
    {
     "name": "stderr",
     "output_type": "stream",
     "text": [
      " 76%|███████▌  | 1518/2000 [00:06<00:03, 159.90it/s]"
     ]
    },
    {
     "name": "stdout",
     "output_type": "stream",
     "text": [
      "Platypus II\n"
     ]
    },
    {
     "name": "stderr",
     "output_type": "stream",
     "text": [
      " 79%|███████▉  | 1575/2000 [00:07<00:02, 173.28it/s]"
     ]
    },
    {
     "name": "stdout",
     "output_type": "stream",
     "text": [
      "Psychonauts\n"
     ]
    },
    {
     "name": "stderr",
     "output_type": "stream",
     "text": [
      " 81%|████████  | 1611/2000 [00:07<00:02, 149.39it/s]"
     ]
    },
    {
     "name": "stdout",
     "output_type": "stream",
     "text": [
      "Bridge Project\n"
     ]
    },
    {
     "name": "stderr",
     "output_type": "stream",
     "text": [
      " 86%|████████▌ | 1712/2000 [00:07<00:01, 216.65it/s]"
     ]
    },
    {
     "name": "stdout",
     "output_type": "stream",
     "text": [
      "Post Apocalyptic Mayhem\n"
     ]
    },
    {
     "name": "stderr",
     "output_type": "stream",
     "text": [
      " 89%|████████▉ | 1785/2000 [00:08<00:01, 202.53it/s]"
     ]
    },
    {
     "name": "stdout",
     "output_type": "stream",
     "text": [
      "Mortal Kombat Legacy - Ep. 6 Raiden\n",
      "Next Car Game Wreckfest\n"
     ]
    },
    {
     "name": "stderr",
     "output_type": "stream",
     "text": [
      " 94%|█████████▍| 1888/2000 [00:08<00:00, 208.56it/s]"
     ]
    },
    {
     "name": "stdout",
     "output_type": "stream",
     "text": [
      "Psychonauts\n"
     ]
    },
    {
     "name": "stderr",
     "output_type": "stream",
     "text": [
      "100%|██████████| 2000/2000 [00:09<00:00, 221.86it/s]"
     ]
    },
    {
     "name": "stdout",
     "output_type": "stream",
     "text": [
      "Arma 3 Helicopters\n",
      "0.00525\n"
     ]
    },
    {
     "name": "stderr",
     "output_type": "stream",
     "text": [
      "\n"
     ]
    }
   ],
   "source": [
    "print(getRecall(games_altered, test_users, beautiful_df, 100, predictions,user_id_groups))"
   ]
  },
  {
   "cell_type": "code",
   "execution_count": null,
   "metadata": {},
   "outputs": [],
   "source": []
  },
  {
   "cell_type": "code",
   "execution_count": null,
   "metadata": {},
   "outputs": [],
   "source": []
  }
 ],
 "metadata": {
  "kernelspec": {
   "display_name": "Python 3",
   "language": "python",
   "name": "python3"
  },
  "language_info": {
   "codemirror_mode": {
    "name": "ipython",
    "version": 3
   },
   "file_extension": ".py",
   "mimetype": "text/x-python",
   "name": "python",
   "nbconvert_exporter": "python",
   "pygments_lexer": "ipython3",
   "version": "3.6.3"
  }
 },
 "nbformat": 4,
 "nbformat_minor": 2
}
